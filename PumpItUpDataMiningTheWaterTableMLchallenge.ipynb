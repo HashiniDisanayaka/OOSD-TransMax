{
  "nbformat": 4,
  "nbformat_minor": 0,
  "metadata": {
    "colab": {
      "name": "PumpItUpDataMiningTheWaterTableMLchallenge.ipynb",
      "provenance": [],
      "authorship_tag": "ABX9TyMEkL31yYupv39pF4Azv8/q",
      "include_colab_link": true
    },
    "kernelspec": {
      "name": "python3",
      "display_name": "Python 3"
    },
    "language_info": {
      "name": "python"
    }
  },
  "cells": [
    {
      "cell_type": "markdown",
      "metadata": {
        "id": "view-in-github",
        "colab_type": "text"
      },
      "source": [
        "<a href=\"https://colab.research.google.com/github/HashiniDisanayaka/OOSD-TransMax/blob/master/PumpItUpDataMiningTheWaterTableMLchallenge.ipynb\" target=\"_parent\"><img src=\"https://colab.research.google.com/assets/colab-badge.svg\" alt=\"Open In Colab\"/></a>"
      ]
    },
    {
      "cell_type": "code",
      "metadata": {
        "id": "ELzE2ekXskfk"
      },
      "source": [
        "#Import Required Modules\n",
        "\n",
        "import gc\n",
        "import pandas as pd\n",
        "import numpy as np\n",
        "from sklearn import tree\n",
        "from sklearn.ensemble import RandomForestClassifier\n",
        "from sklearn.metrics import accuracy_score"
      ],
      "execution_count": 42,
      "outputs": []
    },
    {
      "cell_type": "code",
      "metadata": {
        "id": "zxbDbiI1s9yG"
      },
      "source": [
        "#Import data from csv files\n",
        "\n",
        "training_value = pd.read_csv(\"/content/Training_set_values.csv\")\n",
        "test_value = pd.read_csv(\"/content/Test_set_values.csv\")\n",
        "training_label = pd.read_csv(\"/content/Training_set_labels.csv\")"
      ],
      "execution_count": 43,
      "outputs": []
    },
    {
      "cell_type": "code",
      "metadata": {
        "colab": {
          "base_uri": "https://localhost:8080/"
        },
        "id": "uq4KExJIZyQQ",
        "outputId": "194be0d4-d53d-4f29-b5d8-e7e78056217a"
      },
      "source": [
        "#PreProcess train label\n",
        "\n",
        "column_label_value = list(training_label.columns.values)\n",
        "column_label_value.remove(\"id\")\n",
        "\n",
        "for i in column_label_value:\n",
        "\tunique_value = training_label[i].unique()\n",
        "\tsize = len(unique_value)\n",
        "\tprint(size)\n",
        "\tfor j in range(size):\n",
        "\t\tif unique_value[j] != \"nan\":\n",
        "\t\t\ttraining_label.loc[training_label[i] == unique_value[j], i] = j"
      ],
      "execution_count": 44,
      "outputs": [
        {
          "output_type": "stream",
          "name": "stdout",
          "text": [
            "3\n"
          ]
        }
      ]
    },
    {
      "cell_type": "code",
      "metadata": {
        "colab": {
          "base_uri": "https://localhost:8080/"
        },
        "id": "S6u4hGLEtRz6",
        "outputId": "97f42313-8c3c-4a7f-e65d-6f4fd71e3124"
      },
      "source": [
        "#PreProcess training value and test csv files\n",
        "\n",
        "column_label_value = list(training_value.columns.values)\n",
        "column_label_value.remove(\"id\")\n",
        "column_label_value.remove(\"amount_tsh\")\n",
        "column_label_value.remove(\"gps_height\")\n",
        "column_label_value.remove(\"longitude\")\n",
        "column_label_value.remove(\"latitude\")\n",
        "column_label_value.remove(\"num_private\")\n",
        "column_label_value.remove(\"region_code\")\n",
        "column_label_value.remove(\"district_code\")\n",
        "column_label_value.remove(\"population\")\n",
        "column_label_value.remove(\"construction_year\")\n",
        "\n",
        "test_value = test_value.fillna(test_value.median())\n",
        "\n",
        "for i in column_label_value:\n",
        "\tunique_value = list(set(np.concatenate((training_value[i].unique() , test_value[i].unique()))))\n",
        "\tsize = len(unique_value)\n",
        "\tprint(size)\n",
        "\tfor j in range(size):\n",
        "\t\tif unique_value[j] != \"nan\":\n",
        "\t\t\ttraining_value.loc[training_value[i] == unique_value[j], i] = j\n",
        "\t\t\ttest_value.loc[test_value[i] == unique_value[j], i] = j\n",
        "\n",
        "training_value = training_value.fillna(training_value.median())\n",
        "test_value = test_value.fillna(test_value.median())"
      ],
      "execution_count": 45,
      "outputs": [
        {
          "output_type": "stream",
          "name": "stdout",
          "text": [
            "369\n",
            "2141\n",
            "2411\n",
            "45684\n",
            "9\n",
            "21426\n",
            "21\n",
            "125\n",
            "2098\n",
            "3\n",
            "1\n",
            "13\n",
            "2869\n",
            "3\n",
            "18\n",
            "13\n",
            "7\n",
            "12\n",
            "5\n",
            "7\n",
            "7\n",
            "8\n",
            "6\n",
            "5\n",
            "5\n",
            "10\n",
            "7\n",
            "3\n",
            "7\n",
            "6\n"
          ]
        }
      ]
    },
    {
      "cell_type": "code",
      "metadata": {
        "id": "uuhYBa9wuqh5"
      },
      "source": [
        "#Combine Train value and Train lable files\n",
        "\n",
        "train_data = training_value.merge(training_label, how = \"outer\", on = \"id\", sort = True)\n",
        "train_data = train_data.fillna(train_data.median())\n"
      ],
      "execution_count": 46,
      "outputs": []
    },
    {
      "cell_type": "code",
      "metadata": {
        "colab": {
          "base_uri": "https://localhost:8080/"
        },
        "id": "tJvG6VPHuyaS",
        "outputId": "d4631643-ebd4-4b74-c323-4b02d1164f2e"
      },
      "source": [
        "#Training process\n",
        "\n",
        "# Feature Engineering\n",
        "column_label_value = list(train_data.columns.values)\n",
        "column_label_value.remove(\"id\")\n",
        "column_label_value.remove(\"date_recorded\")\n",
        "column_label_value.remove(\"status_group\")\n",
        "status_group = [\"functional\", \"non functional\", \"functional needs repair\"]\n",
        "\n",
        "train_data = train_data.iloc[np.random.permutation(len(train_data))]\n",
        "\n",
        "#Data Validation\n",
        "amount = int(0.8*len(train_data))\n",
        "validation = train_data[amount:]\n",
        "\n",
        "#Classification using RandomForestClassifier\n",
        "clasifier = RandomForestClassifier(n_estimators = 200, n_jobs = -1)\n",
        "\n",
        "#Training data\n",
        "clasifier.fit(train_data[column_label_value], train_data[\"status_group\"])\n",
        "\n",
        "#Calculating the accuracy\n",
        "accuracy = accuracy_score(clasifier.predict(validation[column_label_value]), validation[\"status_group\"])\n",
        "print(\"Accuracy = \" + str(accuracy))\n",
        "\n",
        "#Freeing the RAM\n",
        "del train_data, validation\n",
        "gc.collect()"
      ],
      "execution_count": 47,
      "outputs": [
        {
          "output_type": "stream",
          "name": "stdout",
          "text": [
            "Accuracy = 1.0\n"
          ]
        },
        {
          "output_type": "execute_result",
          "data": {
            "text/plain": [
              "48"
            ]
          },
          "metadata": {},
          "execution_count": 47
        }
      ]
    },
    {
      "cell_type": "code",
      "metadata": {
        "id": "qX-_y90783bh"
      },
      "source": [
        "#Testing process\n",
        "\n",
        "#Testing data\n",
        "test_value = test_value.fillna(test.median())\n",
        "\n",
        "# Prediction on test data\n",
        "prediction = clasifier.predict(test_value[column_label_value])"
      ],
      "execution_count": 48,
      "outputs": []
    },
    {
      "cell_type": "code",
      "metadata": {
        "id": "BumC5XeWB1DM"
      },
      "source": [
        "#Saving data into Submission.csv file\n",
        "submission = pd.DataFrame({\n",
        "\t\t\t\"id\": test_value[\"id\"],\n",
        "\t\t\t\"status_group\": prediction\n",
        "\t\t})\n",
        "for i in range(len(status_group)):\n",
        "\tsubmission.loc[submission[\"status_group\"] == i, \"status_group\"] = status_group[i]\n",
        "\n",
        "#Save dataframe into the csv file\n",
        "submission.to_csv(\"/content/Submission.csv\", index = False)"
      ],
      "execution_count": 49,
      "outputs": []
    },
    {
      "cell_type": "code",
      "metadata": {
        "id": "DZt9e5xWEnnP"
      },
      "source": [
        ""
      ],
      "execution_count": null,
      "outputs": []
    }
  ]
}